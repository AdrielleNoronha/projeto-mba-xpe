{
 "cells": [
  {
   "cell_type": "code",
   "execution_count": 30,
   "id": "494c0b4a",
   "metadata": {},
   "outputs": [],
   "source": [
    "import MySQLdb # importação da biblioteca mysqlclient\n",
    "import sqlalchemy\n",
    "from pyspark.sql import SparkSession\n",
    "from pyspark.sql.functions import avg\n",
    "from pyspark.sql import functions as F\n",
    "from pyspark.sql.types import IntegerType, FloatType, BooleanType, StructField, DoubleType\n",
    "from pyspark.ml.feature import MinMaxScaler\n",
    "spark = (SparkSession.builder\n",
    "        .appName(\"Projeto_aplicado_decision_tree\")\n",
    "        .getOrCreate())"
   ]
  },
  {
   "cell_type": "code",
   "execution_count": 31,
   "id": "6898b22a",
   "metadata": {},
   "outputs": [],
   "source": [
    "user = 'root'\n",
    "password = 'root'\n",
    "host = 'localhost'\n",
    "database = 'empresas_pa' #schema\n",
    "\n",
    "string_conexao = f'mysql://{user}:{password}@{host}/{database}'\n",
    "\n",
    "import pandas as pd  \n",
    "from sqlalchemy import create_engine \n",
    "cnx = create_engine(string_conexao).connect() \n",
    "\n",
    "sql = \"\"\"SELECT emp.id_empresa, emp.nome_empresa, emp.papel_empresa, emp.qtd_cotas, emp.setor_empresa, emp.sub_setor_empresa, cot.data_cotacao, cot.valor, ind.EV, ind.DB_PL, ind.EV_EBIT, ind.P_L, ind.P_VPA, ind.ROE FROM empresas_pa.empresas as emp \n",
    "    INNER JOIN empresas_pa.cotacao as cot ON emp.id_empresa = cot.id_empresa\n",
    "    LEFT JOIN empresas_pa.indicadores as ind ON cot.id_empresa = ind.id_empresa and cot.data_cotacao = ind.data\n",
    "    WHERE emp.id_empresa = 490 and cot.data_cotacao <= '2023-03-31'\"\"\"\n",
    "\n",
    "df = pd.read_sql_query(sql, cnx) "
   ]
  },
  {
   "cell_type": "code",
   "execution_count": 32,
   "id": "7d21b897",
   "metadata": {},
   "outputs": [],
   "source": [
    "# normalização dos dados\n",
    "for column in [\"EV\", \"DB_PL\", \"EV_EBIT\", \"P_L\", \"P_VPA\", \"ROE\"]:\n",
    "    new_values = []\n",
    "    indice = 0\n",
    "    for i in df[column]:\n",
    "        value = None\n",
    "        if str(i) == \"nan\":\n",
    "            for j in df[column][indice:]:\n",
    "                if str(j) != \"nan\":\n",
    "                    value = j\n",
    "                    break\n",
    "        else:\n",
    "            value = i\n",
    "        \n",
    "        new_values.append(value)            \n",
    "        indice += 1\n",
    "\n",
    "    df[column] = new_values"
   ]
  },
  {
   "cell_type": "code",
   "execution_count": 33,
   "id": "5686b8e7",
   "metadata": {},
   "outputs": [
    {
     "data": {
      "text/html": [
       "<div>\n",
       "<style scoped>\n",
       "    .dataframe tbody tr th:only-of-type {\n",
       "        vertical-align: middle;\n",
       "    }\n",
       "\n",
       "    .dataframe tbody tr th {\n",
       "        vertical-align: top;\n",
       "    }\n",
       "\n",
       "    .dataframe thead th {\n",
       "        text-align: right;\n",
       "    }\n",
       "</style>\n",
       "<table border=\"1\" class=\"dataframe\">\n",
       "  <thead>\n",
       "    <tr style=\"text-align: right;\">\n",
       "      <th></th>\n",
       "      <th>id_empresa</th>\n",
       "      <th>nome_empresa</th>\n",
       "      <th>papel_empresa</th>\n",
       "      <th>qtd_cotas</th>\n",
       "      <th>setor_empresa</th>\n",
       "      <th>sub_setor_empresa</th>\n",
       "      <th>data_cotacao</th>\n",
       "      <th>valor</th>\n",
       "      <th>EV</th>\n",
       "      <th>DB_PL</th>\n",
       "      <th>EV_EBIT</th>\n",
       "      <th>P_L</th>\n",
       "      <th>P_VPA</th>\n",
       "      <th>ROE</th>\n",
       "    </tr>\n",
       "  </thead>\n",
       "  <tbody>\n",
       "    <tr>\n",
       "      <th>0</th>\n",
       "      <td>490</td>\n",
       "      <td>AMBEV S/A</td>\n",
       "      <td>ABEV3</td>\n",
       "      <td>15753800000</td>\n",
       "      <td>Bebidas</td>\n",
       "      <td>Cervejas e Refrigerantes</td>\n",
       "      <td>2013-11-11</td>\n",
       "      <td>13.0315</td>\n",
       "      <td>1.985360e+11</td>\n",
       "      <td>0.070764</td>\n",
       "      <td>5.28254</td>\n",
       "      <td>16.8224</td>\n",
       "      <td>5.21749</td>\n",
       "      <td>0.310151</td>\n",
       "    </tr>\n",
       "    <tr>\n",
       "      <th>1</th>\n",
       "      <td>490</td>\n",
       "      <td>AMBEV S/A</td>\n",
       "      <td>ABEV3</td>\n",
       "      <td>15753800000</td>\n",
       "      <td>Bebidas</td>\n",
       "      <td>Cervejas e Refrigerantes</td>\n",
       "      <td>2013-11-12</td>\n",
       "      <td>12.8026</td>\n",
       "      <td>1.985360e+11</td>\n",
       "      <td>0.070764</td>\n",
       "      <td>5.28254</td>\n",
       "      <td>16.8224</td>\n",
       "      <td>5.21749</td>\n",
       "      <td>0.310151</td>\n",
       "    </tr>\n",
       "    <tr>\n",
       "      <th>2</th>\n",
       "      <td>490</td>\n",
       "      <td>AMBEV S/A</td>\n",
       "      <td>ABEV3</td>\n",
       "      <td>15753800000</td>\n",
       "      <td>Bebidas</td>\n",
       "      <td>Cervejas e Refrigerantes</td>\n",
       "      <td>2013-11-13</td>\n",
       "      <td>12.7762</td>\n",
       "      <td>1.985360e+11</td>\n",
       "      <td>0.070764</td>\n",
       "      <td>5.28254</td>\n",
       "      <td>16.8224</td>\n",
       "      <td>5.21749</td>\n",
       "      <td>0.310151</td>\n",
       "    </tr>\n",
       "    <tr>\n",
       "      <th>3</th>\n",
       "      <td>490</td>\n",
       "      <td>AMBEV S/A</td>\n",
       "      <td>ABEV3</td>\n",
       "      <td>15753800000</td>\n",
       "      <td>Bebidas</td>\n",
       "      <td>Cervejas e Refrigerantes</td>\n",
       "      <td>2013-11-14</td>\n",
       "      <td>13.0667</td>\n",
       "      <td>1.985360e+11</td>\n",
       "      <td>0.070764</td>\n",
       "      <td>5.28254</td>\n",
       "      <td>16.8224</td>\n",
       "      <td>5.21749</td>\n",
       "      <td>0.310151</td>\n",
       "    </tr>\n",
       "    <tr>\n",
       "      <th>4</th>\n",
       "      <td>490</td>\n",
       "      <td>AMBEV S/A</td>\n",
       "      <td>ABEV3</td>\n",
       "      <td>15753800000</td>\n",
       "      <td>Bebidas</td>\n",
       "      <td>Cervejas e Refrigerantes</td>\n",
       "      <td>2013-11-18</td>\n",
       "      <td>13.2164</td>\n",
       "      <td>1.985360e+11</td>\n",
       "      <td>0.070764</td>\n",
       "      <td>5.28254</td>\n",
       "      <td>16.8224</td>\n",
       "      <td>5.21749</td>\n",
       "      <td>0.310151</td>\n",
       "    </tr>\n",
       "    <tr>\n",
       "      <th>...</th>\n",
       "      <td>...</td>\n",
       "      <td>...</td>\n",
       "      <td>...</td>\n",
       "      <td>...</td>\n",
       "      <td>...</td>\n",
       "      <td>...</td>\n",
       "      <td>...</td>\n",
       "      <td>...</td>\n",
       "      <td>...</td>\n",
       "      <td>...</td>\n",
       "      <td>...</td>\n",
       "      <td>...</td>\n",
       "      <td>...</td>\n",
       "      <td>...</td>\n",
       "    </tr>\n",
       "    <tr>\n",
       "      <th>2318</th>\n",
       "      <td>490</td>\n",
       "      <td>AMBEV S/A</td>\n",
       "      <td>ABEV3</td>\n",
       "      <td>15753800000</td>\n",
       "      <td>Bebidas</td>\n",
       "      <td>Cervejas e Refrigerantes</td>\n",
       "      <td>2023-03-27</td>\n",
       "      <td>13.9300</td>\n",
       "      <td>2.173270e+11</td>\n",
       "      <td>0.044581</td>\n",
       "      <td>3.97759</td>\n",
       "      <td>15.3107</td>\n",
       "      <td>2.65592</td>\n",
       "      <td>0.173468</td>\n",
       "    </tr>\n",
       "    <tr>\n",
       "      <th>2319</th>\n",
       "      <td>490</td>\n",
       "      <td>AMBEV S/A</td>\n",
       "      <td>ABEV3</td>\n",
       "      <td>15753800000</td>\n",
       "      <td>Bebidas</td>\n",
       "      <td>Cervejas e Refrigerantes</td>\n",
       "      <td>2023-03-28</td>\n",
       "      <td>14.5900</td>\n",
       "      <td>2.173270e+11</td>\n",
       "      <td>0.044581</td>\n",
       "      <td>3.97759</td>\n",
       "      <td>15.3107</td>\n",
       "      <td>2.65592</td>\n",
       "      <td>0.173468</td>\n",
       "    </tr>\n",
       "    <tr>\n",
       "      <th>2320</th>\n",
       "      <td>490</td>\n",
       "      <td>AMBEV S/A</td>\n",
       "      <td>ABEV3</td>\n",
       "      <td>15753800000</td>\n",
       "      <td>Bebidas</td>\n",
       "      <td>Cervejas e Refrigerantes</td>\n",
       "      <td>2023-03-29</td>\n",
       "      <td>14.8100</td>\n",
       "      <td>2.173270e+11</td>\n",
       "      <td>0.044581</td>\n",
       "      <td>3.97759</td>\n",
       "      <td>15.3107</td>\n",
       "      <td>2.65592</td>\n",
       "      <td>0.173468</td>\n",
       "    </tr>\n",
       "    <tr>\n",
       "      <th>2321</th>\n",
       "      <td>490</td>\n",
       "      <td>AMBEV S/A</td>\n",
       "      <td>ABEV3</td>\n",
       "      <td>15753800000</td>\n",
       "      <td>Bebidas</td>\n",
       "      <td>Cervejas e Refrigerantes</td>\n",
       "      <td>2023-03-30</td>\n",
       "      <td>14.8200</td>\n",
       "      <td>2.173270e+11</td>\n",
       "      <td>0.044581</td>\n",
       "      <td>3.97759</td>\n",
       "      <td>15.3107</td>\n",
       "      <td>2.65592</td>\n",
       "      <td>0.173468</td>\n",
       "    </tr>\n",
       "    <tr>\n",
       "      <th>2322</th>\n",
       "      <td>490</td>\n",
       "      <td>AMBEV S/A</td>\n",
       "      <td>ABEV3</td>\n",
       "      <td>15753800000</td>\n",
       "      <td>Bebidas</td>\n",
       "      <td>Cervejas e Refrigerantes</td>\n",
       "      <td>2023-03-31</td>\n",
       "      <td>14.3300</td>\n",
       "      <td>2.173270e+11</td>\n",
       "      <td>0.044581</td>\n",
       "      <td>3.97759</td>\n",
       "      <td>15.3107</td>\n",
       "      <td>2.65592</td>\n",
       "      <td>0.173468</td>\n",
       "    </tr>\n",
       "  </tbody>\n",
       "</table>\n",
       "<p>2323 rows × 14 columns</p>\n",
       "</div>"
      ],
      "text/plain": [
       "      id_empresa nome_empresa papel_empresa    qtd_cotas setor_empresa  \\\n",
       "0            490    AMBEV S/A         ABEV3  15753800000       Bebidas   \n",
       "1            490    AMBEV S/A         ABEV3  15753800000       Bebidas   \n",
       "2            490    AMBEV S/A         ABEV3  15753800000       Bebidas   \n",
       "3            490    AMBEV S/A         ABEV3  15753800000       Bebidas   \n",
       "4            490    AMBEV S/A         ABEV3  15753800000       Bebidas   \n",
       "...          ...          ...           ...          ...           ...   \n",
       "2318         490    AMBEV S/A         ABEV3  15753800000       Bebidas   \n",
       "2319         490    AMBEV S/A         ABEV3  15753800000       Bebidas   \n",
       "2320         490    AMBEV S/A         ABEV3  15753800000       Bebidas   \n",
       "2321         490    AMBEV S/A         ABEV3  15753800000       Bebidas   \n",
       "2322         490    AMBEV S/A         ABEV3  15753800000       Bebidas   \n",
       "\n",
       "             sub_setor_empresa data_cotacao    valor            EV     DB_PL  \\\n",
       "0     Cervejas e Refrigerantes   2013-11-11  13.0315  1.985360e+11  0.070764   \n",
       "1     Cervejas e Refrigerantes   2013-11-12  12.8026  1.985360e+11  0.070764   \n",
       "2     Cervejas e Refrigerantes   2013-11-13  12.7762  1.985360e+11  0.070764   \n",
       "3     Cervejas e Refrigerantes   2013-11-14  13.0667  1.985360e+11  0.070764   \n",
       "4     Cervejas e Refrigerantes   2013-11-18  13.2164  1.985360e+11  0.070764   \n",
       "...                        ...          ...      ...           ...       ...   \n",
       "2318  Cervejas e Refrigerantes   2023-03-27  13.9300  2.173270e+11  0.044581   \n",
       "2319  Cervejas e Refrigerantes   2023-03-28  14.5900  2.173270e+11  0.044581   \n",
       "2320  Cervejas e Refrigerantes   2023-03-29  14.8100  2.173270e+11  0.044581   \n",
       "2321  Cervejas e Refrigerantes   2023-03-30  14.8200  2.173270e+11  0.044581   \n",
       "2322  Cervejas e Refrigerantes   2023-03-31  14.3300  2.173270e+11  0.044581   \n",
       "\n",
       "      EV_EBIT      P_L    P_VPA       ROE  \n",
       "0     5.28254  16.8224  5.21749  0.310151  \n",
       "1     5.28254  16.8224  5.21749  0.310151  \n",
       "2     5.28254  16.8224  5.21749  0.310151  \n",
       "3     5.28254  16.8224  5.21749  0.310151  \n",
       "4     5.28254  16.8224  5.21749  0.310151  \n",
       "...       ...      ...      ...       ...  \n",
       "2318  3.97759  15.3107  2.65592  0.173468  \n",
       "2319  3.97759  15.3107  2.65592  0.173468  \n",
       "2320  3.97759  15.3107  2.65592  0.173468  \n",
       "2321  3.97759  15.3107  2.65592  0.173468  \n",
       "2322  3.97759  15.3107  2.65592  0.173468  \n",
       "\n",
       "[2323 rows x 14 columns]"
      ]
     },
     "execution_count": 33,
     "metadata": {},
     "output_type": "execute_result"
    }
   ],
   "source": [
    "df"
   ]
  },
  {
   "cell_type": "code",
   "execution_count": 34,
   "id": "4f39ec0e",
   "metadata": {},
   "outputs": [
    {
     "data": {
      "text/html": [
       "<div>\n",
       "<style scoped>\n",
       "    .dataframe tbody tr th:only-of-type {\n",
       "        vertical-align: middle;\n",
       "    }\n",
       "\n",
       "    .dataframe tbody tr th {\n",
       "        vertical-align: top;\n",
       "    }\n",
       "\n",
       "    .dataframe thead th {\n",
       "        text-align: right;\n",
       "    }\n",
       "</style>\n",
       "<table border=\"1\" class=\"dataframe\">\n",
       "  <thead>\n",
       "    <tr style=\"text-align: right;\">\n",
       "      <th></th>\n",
       "      <th>data_cotacao</th>\n",
       "      <th>valor</th>\n",
       "      <th>EV</th>\n",
       "      <th>DB_PL</th>\n",
       "      <th>EV_EBIT</th>\n",
       "      <th>P_L</th>\n",
       "      <th>P_VPA</th>\n",
       "      <th>ROE</th>\n",
       "    </tr>\n",
       "  </thead>\n",
       "  <tbody>\n",
       "    <tr>\n",
       "      <th>0</th>\n",
       "      <td>2013-11-11</td>\n",
       "      <td>13.0315</td>\n",
       "      <td>1.985360e+11</td>\n",
       "      <td>0.070764</td>\n",
       "      <td>5.28254</td>\n",
       "      <td>16.8224</td>\n",
       "      <td>5.21749</td>\n",
       "      <td>0.310151</td>\n",
       "    </tr>\n",
       "    <tr>\n",
       "      <th>1</th>\n",
       "      <td>2013-11-12</td>\n",
       "      <td>12.8026</td>\n",
       "      <td>1.985360e+11</td>\n",
       "      <td>0.070764</td>\n",
       "      <td>5.28254</td>\n",
       "      <td>16.8224</td>\n",
       "      <td>5.21749</td>\n",
       "      <td>0.310151</td>\n",
       "    </tr>\n",
       "    <tr>\n",
       "      <th>2</th>\n",
       "      <td>2013-11-13</td>\n",
       "      <td>12.7762</td>\n",
       "      <td>1.985360e+11</td>\n",
       "      <td>0.070764</td>\n",
       "      <td>5.28254</td>\n",
       "      <td>16.8224</td>\n",
       "      <td>5.21749</td>\n",
       "      <td>0.310151</td>\n",
       "    </tr>\n",
       "    <tr>\n",
       "      <th>3</th>\n",
       "      <td>2013-11-14</td>\n",
       "      <td>13.0667</td>\n",
       "      <td>1.985360e+11</td>\n",
       "      <td>0.070764</td>\n",
       "      <td>5.28254</td>\n",
       "      <td>16.8224</td>\n",
       "      <td>5.21749</td>\n",
       "      <td>0.310151</td>\n",
       "    </tr>\n",
       "    <tr>\n",
       "      <th>4</th>\n",
       "      <td>2013-11-18</td>\n",
       "      <td>13.2164</td>\n",
       "      <td>1.985360e+11</td>\n",
       "      <td>0.070764</td>\n",
       "      <td>5.28254</td>\n",
       "      <td>16.8224</td>\n",
       "      <td>5.21749</td>\n",
       "      <td>0.310151</td>\n",
       "    </tr>\n",
       "    <tr>\n",
       "      <th>...</th>\n",
       "      <td>...</td>\n",
       "      <td>...</td>\n",
       "      <td>...</td>\n",
       "      <td>...</td>\n",
       "      <td>...</td>\n",
       "      <td>...</td>\n",
       "      <td>...</td>\n",
       "      <td>...</td>\n",
       "    </tr>\n",
       "    <tr>\n",
       "      <th>2318</th>\n",
       "      <td>2023-03-27</td>\n",
       "      <td>13.9300</td>\n",
       "      <td>2.173270e+11</td>\n",
       "      <td>0.044581</td>\n",
       "      <td>3.97759</td>\n",
       "      <td>15.3107</td>\n",
       "      <td>2.65592</td>\n",
       "      <td>0.173468</td>\n",
       "    </tr>\n",
       "    <tr>\n",
       "      <th>2319</th>\n",
       "      <td>2023-03-28</td>\n",
       "      <td>14.5900</td>\n",
       "      <td>2.173270e+11</td>\n",
       "      <td>0.044581</td>\n",
       "      <td>3.97759</td>\n",
       "      <td>15.3107</td>\n",
       "      <td>2.65592</td>\n",
       "      <td>0.173468</td>\n",
       "    </tr>\n",
       "    <tr>\n",
       "      <th>2320</th>\n",
       "      <td>2023-03-29</td>\n",
       "      <td>14.8100</td>\n",
       "      <td>2.173270e+11</td>\n",
       "      <td>0.044581</td>\n",
       "      <td>3.97759</td>\n",
       "      <td>15.3107</td>\n",
       "      <td>2.65592</td>\n",
       "      <td>0.173468</td>\n",
       "    </tr>\n",
       "    <tr>\n",
       "      <th>2321</th>\n",
       "      <td>2023-03-30</td>\n",
       "      <td>14.8200</td>\n",
       "      <td>2.173270e+11</td>\n",
       "      <td>0.044581</td>\n",
       "      <td>3.97759</td>\n",
       "      <td>15.3107</td>\n",
       "      <td>2.65592</td>\n",
       "      <td>0.173468</td>\n",
       "    </tr>\n",
       "    <tr>\n",
       "      <th>2322</th>\n",
       "      <td>2023-03-31</td>\n",
       "      <td>14.3300</td>\n",
       "      <td>2.173270e+11</td>\n",
       "      <td>0.044581</td>\n",
       "      <td>3.97759</td>\n",
       "      <td>15.3107</td>\n",
       "      <td>2.65592</td>\n",
       "      <td>0.173468</td>\n",
       "    </tr>\n",
       "  </tbody>\n",
       "</table>\n",
       "<p>2323 rows × 8 columns</p>\n",
       "</div>"
      ],
      "text/plain": [
       "     data_cotacao    valor            EV     DB_PL  EV_EBIT      P_L    P_VPA  \\\n",
       "0      2013-11-11  13.0315  1.985360e+11  0.070764  5.28254  16.8224  5.21749   \n",
       "1      2013-11-12  12.8026  1.985360e+11  0.070764  5.28254  16.8224  5.21749   \n",
       "2      2013-11-13  12.7762  1.985360e+11  0.070764  5.28254  16.8224  5.21749   \n",
       "3      2013-11-14  13.0667  1.985360e+11  0.070764  5.28254  16.8224  5.21749   \n",
       "4      2013-11-18  13.2164  1.985360e+11  0.070764  5.28254  16.8224  5.21749   \n",
       "...           ...      ...           ...       ...      ...      ...      ...   \n",
       "2318   2023-03-27  13.9300  2.173270e+11  0.044581  3.97759  15.3107  2.65592   \n",
       "2319   2023-03-28  14.5900  2.173270e+11  0.044581  3.97759  15.3107  2.65592   \n",
       "2320   2023-03-29  14.8100  2.173270e+11  0.044581  3.97759  15.3107  2.65592   \n",
       "2321   2023-03-30  14.8200  2.173270e+11  0.044581  3.97759  15.3107  2.65592   \n",
       "2322   2023-03-31  14.3300  2.173270e+11  0.044581  3.97759  15.3107  2.65592   \n",
       "\n",
       "           ROE  \n",
       "0     0.310151  \n",
       "1     0.310151  \n",
       "2     0.310151  \n",
       "3     0.310151  \n",
       "4     0.310151  \n",
       "...        ...  \n",
       "2318  0.173468  \n",
       "2319  0.173468  \n",
       "2320  0.173468  \n",
       "2321  0.173468  \n",
       "2322  0.173468  \n",
       "\n",
       "[2323 rows x 8 columns]"
      ]
     },
     "execution_count": 34,
     "metadata": {},
     "output_type": "execute_result"
    }
   ],
   "source": [
    "df_final = df\n",
    "\n",
    "df_final = df_final.drop(columns = [\"id_empresa\", \"nome_empresa\", \"papel_empresa\", \"qtd_cotas\", \"setor_empresa\", \n",
    "                                    \"sub_setor_empresa\"])\n",
    "\n",
    "df_final"
   ]
  },
  {
   "cell_type": "code",
   "execution_count": 35,
   "id": "436d2968",
   "metadata": {},
   "outputs": [],
   "source": [
    "dados = spark.createDataFrame(df_final)"
   ]
  },
  {
   "cell_type": "code",
   "execution_count": 36,
   "id": "00ac5ad3",
   "metadata": {},
   "outputs": [
    {
     "name": "stdout",
     "output_type": "stream",
     "text": [
      "root\n",
      " |-- data_cotacao: date (nullable = true)\n",
      " |-- valor: double (nullable = true)\n",
      " |-- EV: double (nullable = true)\n",
      " |-- DB_PL: double (nullable = true)\n",
      " |-- EV_EBIT: double (nullable = true)\n",
      " |-- P_L: double (nullable = true)\n",
      " |-- P_VPA: double (nullable = true)\n",
      " |-- ROE: double (nullable = true)\n",
      " |-- features: vector (nullable = true)\n",
      "\n"
     ]
    }
   ],
   "source": [
    "#transformando os dados (linhas) em vetores\n",
    "from pyspark.ml.feature import VectorAssembler  #importando a biblioteca responsável por criar o vetor a partir da coluna\n",
    "\n",
    "all_cols = ['EV', 'DB_PL', 'EV_EBIT', 'P_L', 'P_VPA', 'ROE']\n",
    "\n",
    "assembler = VectorAssembler(inputCols=all_cols, outputCol='features')  #define o objeto para transformação\n",
    "df_dados = assembler.transform(dados) #aplica a transformação\n",
    "df_dados.printSchema()"
   ]
  },
  {
   "cell_type": "code",
   "execution_count": 37,
   "id": "6b45ce02",
   "metadata": {},
   "outputs": [
    {
     "name": "stdout",
     "output_type": "stream",
     "text": [
      "+--------------------+-------+\n",
      "|            features|  valor|\n",
      "+--------------------+-------+\n",
      "|[1.98536E11,0.070...|13.0315|\n",
      "|[1.98536E11,0.070...|12.8026|\n",
      "|[1.98536E11,0.070...|12.7762|\n",
      "|[1.98536E11,0.070...|13.0667|\n",
      "|[1.98536E11,0.070...|13.2164|\n",
      "+--------------------+-------+\n",
      "only showing top 5 rows\n",
      "\n"
     ]
    }
   ],
   "source": [
    "dados_final = df_dados.select(['features','valor'])\n",
    "dados_final.show(5)"
   ]
  },
  {
   "cell_type": "code",
   "execution_count": 38,
   "id": "069394bd",
   "metadata": {},
   "outputs": [],
   "source": [
    "# Split the data into training and test sets\n",
    "train_data, test_data = dados_final.randomSplit([0.7, 0.3])"
   ]
  },
  {
   "cell_type": "code",
   "execution_count": 39,
   "id": "b1e5836f",
   "metadata": {},
   "outputs": [],
   "source": [
    "from pyspark.ml.regression import LinearRegression\n",
    "from pyspark.ml.feature import VectorAssembler\n",
    "from pyspark.ml.evaluation import RegressionEvaluator\n",
    "from pyspark.ml.tuning import CrossValidator, ParamGridBuilder"
   ]
  },
  {
   "cell_type": "code",
   "execution_count": 40,
   "id": "b07d792b",
   "metadata": {},
   "outputs": [],
   "source": [
    "ridge_regression = LinearRegression(featuresCol=\"features\", labelCol=\"valor\", elasticNetParam=0)"
   ]
  },
  {
   "cell_type": "code",
   "execution_count": 41,
   "id": "c1bcafd2",
   "metadata": {},
   "outputs": [],
   "source": [
    "# Define the hyperparameter grid\n",
    "param_grid = ParamGridBuilder() \\\n",
    "    .addGrid(ridge_regression.regParam, [0.001, 0.01, 0.1, 1.0]) \\\n",
    "    .build()\n",
    "\n",
    "# Create the cross-validator\n",
    "evaluator = RegressionEvaluator(predictionCol=\"prediction\", labelCol= \"valor\", metricName=\"rmse\")\n",
    "cross_validator = CrossValidator(estimator=ridge_regression,\n",
    "                                 estimatorParamMaps=param_grid,\n",
    "                                 evaluator=evaluator,\n",
    "                                 numFolds=5)\n",
    "\n",
    "# Train the model with the best hyperparameters\n",
    "cv_model = cross_validator.fit(train_data)\n",
    "ridge_model = cv_model.bestModel"
   ]
  },
  {
   "cell_type": "code",
   "execution_count": 42,
   "id": "1c62b38f",
   "metadata": {},
   "outputs": [
    {
     "name": "stdout",
     "output_type": "stream",
     "text": [
      "Rsquared Error : 0.4531862523883269\n"
     ]
    }
   ],
   "source": [
    "results = ridge_model.evaluate(train_data)\n",
    "print('Rsquared Error :', results.r2)"
   ]
  },
  {
   "cell_type": "code",
   "execution_count": 43,
   "id": "faabc2d0",
   "metadata": {},
   "outputs": [
    {
     "name": "stdout",
     "output_type": "stream",
     "text": [
      "Coefficients:  [2.3932267251051618e-11,-31.25098793640733,-0.27147523474578017,-0.20221755718771914,2.5330722657752798,-43.008192278347465]\n",
      "Intercept: 15.636\n"
     ]
    }
   ],
   "source": [
    "coefficients = ridge_model.coefficients\n",
    "intercept = ridge_model.intercept\n",
    "\n",
    "print(\"Coefficients: \", coefficients)\n",
    "print(\"Intercept: {:.3f}\".format(intercept))"
   ]
  },
  {
   "cell_type": "code",
   "execution_count": 44,
   "id": "bb014a7e",
   "metadata": {},
   "outputs": [
    {
     "name": "stdout",
     "output_type": "stream",
     "text": [
      "Feature Importance:\n",
      "  P_L: 43.008\n",
      "  valor: 31.251\n",
      "  EV_EBIT: 2.533\n",
      "  EV: 0.271\n",
      "  DB_PL: 0.202\n",
      "  data_cotacao: 0.000\n"
     ]
    }
   ],
   "source": [
    "feature_importance = sorted(list(zip(df_dados.columns[:-1], map(abs, coefficients))), key=lambda x: x[1], reverse=True)\n",
    "\n",
    "print(\"Feature Importance:\")\n",
    "for feature, importance in feature_importance:\n",
    "    print(\"  {}: {:.3f}\".format(feature, importance))"
   ]
  },
  {
   "cell_type": "code",
   "execution_count": 45,
   "id": "d3ee7052",
   "metadata": {},
   "outputs": [
    {
     "name": "stdout",
     "output_type": "stream",
     "text": [
      "Root Mean Squared Error (RMSE): 1.4047477800783257\n",
      "Coefficient of Determination (R2): 0.42590549043376646\n"
     ]
    }
   ],
   "source": [
    "# Make predictions on the test data\n",
    "predictions = ridge_model.transform(test_data)\n",
    "\n",
    "# Evaluate the model\n",
    "rmse = evaluator.evaluate(predictions)\n",
    "r2 = RegressionEvaluator(predictionCol=\"prediction\", labelCol=\"valor\", metricName=\"r2\").evaluate(predictions)\n",
    "\n",
    "print(\"Root Mean Squared Error (RMSE):\", rmse)\n",
    "print(\"Coefficient of Determination (R2):\", r2)"
   ]
  },
  {
   "cell_type": "code",
   "execution_count": 46,
   "id": "4b978c73",
   "metadata": {},
   "outputs": [
    {
     "name": "stdout",
     "output_type": "stream",
     "text": [
      "+--------------------+-------+------------------+\n",
      "|            features|  valor|        prediction|\n",
      "+--------------------+-------+------------------+\n",
      "|[1.8656E11,0.0650...|11.9044|11.804859014465096|\n",
      "|[1.8656E11,0.0650...|12.0718|11.804859014465096|\n",
      "|[1.8656E11,0.0650...|12.2743|11.804859014465096|\n",
      "|[1.8656E11,0.0650...|12.3447|11.804859014465096|\n",
      "|[1.8656E11,0.0650...| 12.468|11.804859014465096|\n",
      "+--------------------+-------+------------------+\n",
      "only showing top 5 rows\n",
      "\n"
     ]
    }
   ],
   "source": [
    "predictions.show(5)"
   ]
  },
  {
   "cell_type": "code",
   "execution_count": 47,
   "id": "d83ad7c9",
   "metadata": {},
   "outputs": [],
   "source": [
    "resultado = pd.DataFrame({\n",
    "    \"valor\": predictions.select(predictions.valor).toPandas()[\"valor\"],\n",
    "    \"prediction\": predictions.select(predictions.prediction).toPandas()[\"prediction\"]\n",
    "})"
   ]
  },
  {
   "cell_type": "code",
   "execution_count": 48,
   "id": "7e4141ed",
   "metadata": {},
   "outputs": [
    {
     "data": {
      "text/plain": [
       "694"
      ]
     },
     "execution_count": 48,
     "metadata": {},
     "output_type": "execute_result"
    }
   ],
   "source": [
    "len(resultado['prediction'])"
   ]
  },
  {
   "cell_type": "code",
   "execution_count": 49,
   "id": "5f6db3be",
   "metadata": {},
   "outputs": [],
   "source": [
    "import matplotlib.pyplot as plt"
   ]
  },
  {
   "cell_type": "code",
   "execution_count": 50,
   "id": "2b86081c",
   "metadata": {},
   "outputs": [
    {
     "data": {
      "text/plain": [
       "[<matplotlib.lines.Line2D at 0x1e240778040>]"
      ]
     },
     "execution_count": 50,
     "metadata": {},
     "output_type": "execute_result"
    },
    {
     "data": {
      "image/png": "[encoded data removed]",
      "text/plain": [
       "<Figure size 1080x576 with 1 Axes>"
      ]
     },
     "metadata": {
      "needs_background": "light"
     },
     "output_type": "display_data"
    }
   ],
   "source": [
    "array_dados = range(len(resultado['prediction']))\n",
    "plt.figure(figsize=(15, 8))\n",
    "plt.title(\"Valor da ação\")\n",
    "plt.plot(array_dados, resultado['valor'], label=\"valor\")\n",
    "plt.plot(array_dados, resultado['prediction'], label=\"previsão\")"
   ]
  },
  {
   "cell_type": "code",
   "execution_count": 52,
   "id": "6489ec88",
   "metadata": {},
   "outputs": [
    {
     "name": "stdout",
     "output_type": "stream",
     "text": [
      "            valor        EV     DB_PL   EV_EBIT       P_L     P_VPA       ROE\n",
      "valor    1.000000  0.572914 -0.092721  0.357733  0.476548  0.103073 -0.196897\n",
      "EV       0.572914  1.000000  0.175434  0.775230  0.689419  0.505146  0.091278\n",
      "DB_PL   -0.092721  0.175434  1.000000  0.504601  0.389459  0.586317  0.359419\n",
      "EV_EBIT  0.357733  0.775230  0.504601  1.000000  0.663987  0.836785  0.456848\n",
      "P_L      0.476548  0.689419  0.389459  0.663987  1.000000  0.286988 -0.265959\n",
      "P_VPA    0.103073  0.505146  0.586317  0.836785  0.286988  1.000000  0.836833\n",
      "ROE     -0.196897  0.091278  0.359419  0.456848 -0.265959  0.836833  1.000000\n"
     ]
    },
    {
     "data": {
      "image/png": "[encoded data removed]",
      "text/plain": [
       "<Figure size 1080x720 with 2 Axes>"
      ]
     },
     "metadata": {
      "needs_background": "light"
     },
     "output_type": "display_data"
    }
   ],
   "source": [
    "import seaborn as sns\n",
    "plt.figure(figsize=(15, 10))\n",
    "sns.heatmap(df_final.corr(), annot=True, cmap='Greens')\n",
    "print(df_final.corr())"
   ]
  },
  {
   "cell_type": "code",
   "execution_count": null,
   "id": "08a80f1b",
   "metadata": {},
   "outputs": [],
   "source": []
  }
 ],
 "metadata": {
  "kernelspec": {
   "display_name": "Python 3 (ipykernel)",
   "language": "python",
   "name": "python3"
  },
  "language_info": {
   "codemirror_mode": {
    "name": "ipython",
    "version": 3
   },
   "file_extension": ".py",
   "mimetype": "text/x-python",
   "name": "python",
   "nbconvert_exporter": "python",
   "pygments_lexer": "ipython3",
   "version": "3.9.12"
  }
 },
 "nbformat": 4,
 "nbformat_minor": 5
}
